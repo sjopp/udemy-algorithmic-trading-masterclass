{
 "cells": [
  {
   "cell_type": "markdown",
   "metadata": {},
   "source": [
    "# Class\n",
    "\n",
    "### Create a generic bank account with fields, initialiser and methods\n",
    "#### set up variables from self in the constructor\n",
    "#### pass self to every function in the class (unless static)"
   ]
  },
  {
   "cell_type": "code",
   "execution_count": 19,
   "metadata": {},
   "outputs": [],
   "source": [
    "class Account:\n",
    "    \n",
    "    monthly_fee = 5\n",
    "    \n",
    "    def __init__(self, username, balance):\n",
    "        self.username = username\n",
    "        self.balance = balance\n",
    "        \n",
    "    def deposit(self, amount):\n",
    "        self.balance += amount\n",
    "        \n",
    "    def withdraw(self, amount):\n",
    "        if amount >= self.balance:\n",
    "            return False\n",
    "        self.balance -= amount\n",
    "        return True\n",
    "    \n",
    "    def change_monthly_fee(new_fee):\n",
    "        Account.monthly_fee = new_fee"
   ]
  },
  {
   "cell_type": "markdown",
   "metadata": {},
   "source": [
    "# Objects\n",
    "### Create and use some instances of our Account class"
   ]
  },
  {
   "cell_type": "code",
   "execution_count": 20,
   "metadata": {},
   "outputs": [
    {
     "name": "stdout",
     "output_type": "stream",
     "text": [
      "nimish\n",
      "2000\n",
      "2500\n",
      "False\n",
      "2500\n"
     ]
    }
   ],
   "source": [
    "chequings_account = Account('nimish', 1000)\n",
    "\n",
    "print(chequings_account.username)\n",
    "chequings_account.balance = 2000\n",
    "print(chequings_account.balance)\n",
    "chequings_account.deposit(500)\n",
    "print(chequings_account.balance)\n",
    "print(chequings_account.withdraw(3000))\n",
    "print(chequings_account.balance)"
   ]
  },
  {
   "cell_type": "code",
   "execution_count": 21,
   "metadata": {},
   "outputs": [
    {
     "name": "stdout",
     "output_type": "stream",
     "text": [
      "5000\n",
      "<class '__main__.Account'>\n",
      "<class '__main__.Account'>\n"
     ]
    }
   ],
   "source": [
    "savings_account = Account('nimish', 5000)\n",
    "print(savings_account.balance)\n",
    "print(type(savings_account))\n",
    "print(type(chequings_account))"
   ]
  },
  {
   "cell_type": "markdown",
   "metadata": {},
   "source": [
    "# Statics\n",
    "### A way to have a value for a class that is the same for all instances of that class\n",
    "### Benefit is that you do not need an instance of the class to be able to access the static variable"
   ]
  },
  {
   "cell_type": "code",
   "execution_count": 22,
   "metadata": {},
   "outputs": [
    {
     "name": "stdout",
     "output_type": "stream",
     "text": [
      "5\n",
      "5\n"
     ]
    }
   ],
   "source": [
    "print(Account.monthly_fee)\n",
    "print(savings_account.monthly_fee)"
   ]
  },
  {
   "cell_type": "markdown",
   "metadata": {},
   "source": [
    "#### you can change the value for a static for just the instance of that class but, statics should be a constant for all instances of a class"
   ]
  },
  {
   "cell_type": "code",
   "execution_count": 23,
   "metadata": {},
   "outputs": [
    {
     "name": "stdout",
     "output_type": "stream",
     "text": [
      "5\n",
      "10\n",
      "5\n"
     ]
    }
   ],
   "source": [
    "savings_account.monthly_fee = 10\n",
    "print(Account.monthly_fee)\n",
    "print(savings_account.monthly_fee)\n",
    "print(chequings_account.monthly_fee)"
   ]
  },
  {
   "cell_type": "code",
   "execution_count": 24,
   "metadata": {},
   "outputs": [
    {
     "name": "stdout",
     "output_type": "stream",
     "text": [
      "20\n",
      "10\n",
      "20\n"
     ]
    }
   ],
   "source": [
    "Account.monthly_fee = 20\n",
    "print(Account.monthly_fee)\n",
    "print(savings_account.monthly_fee)\n",
    "print(chequings_account.monthly_fee)"
   ]
  },
  {
   "cell_type": "code",
   "execution_count": 26,
   "metadata": {},
   "outputs": [
    {
     "name": "stdout",
     "output_type": "stream",
     "text": [
      "5\n",
      "10\n",
      "5\n"
     ]
    }
   ],
   "source": [
    "Account.change_monthly_fee(5)\n",
    "print(Account.monthly_fee)\n",
    "print(savings_account.monthly_fee)\n",
    "print(chequings_account.monthly_fee)"
   ]
  },
  {
   "cell_type": "markdown",
   "metadata": {},
   "source": [
    "# Inheritance\n",
    "\n",
    "### Create a subclass of Account that is going to be a savings account"
   ]
  },
  {
   "cell_type": "code",
   "execution_count": 73,
   "metadata": {},
   "outputs": [],
   "source": [
    "class SavingsAccount(Account):\n",
    "    \n",
    "    interest_rate = 5\n",
    "    \n",
    "    def __init__(self, username, balance, max_number_of_transactions):\n",
    "        Account.__init__(self, username, balance)\n",
    "        self.max_number_of_transactions = max_number_of_transactions\n",
    "        self.number_of_transactions = 0\n",
    "        \n",
    "    def change_number_of_transactions(self, new_number_of_transactions):\n",
    "        self.max_number_of_transactions = new_number_of_transactions\n",
    "        \n",
    "    def withdraw(self, amount):\n",
    "        if self.number_of_transactions >= self.max_number_of_transactions:\n",
    "            return False\n",
    "        was_successful = super().withdraw(amount)\n",
    "        if not was_successful:\n",
    "            return False\n",
    "        self.number_of_transactions += 1\n",
    "        return True\n",
    "            "
   ]
  },
  {
   "cell_type": "code",
   "execution_count": 74,
   "metadata": {},
   "outputs": [
    {
     "name": "stdout",
     "output_type": "stream",
     "text": [
      "<class '__main__.SavingsAccount'>\n"
     ]
    }
   ],
   "source": [
    "savings_account = SavingsAccount('nimish', 0, 5)\n",
    "print(type(savings_account))"
   ]
  },
  {
   "cell_type": "code",
   "execution_count": 75,
   "metadata": {},
   "outputs": [
    {
     "name": "stdout",
     "output_type": "stream",
     "text": [
      "nimish\n",
      "500\n"
     ]
    }
   ],
   "source": [
    "print(savings_account.username)\n",
    "savings_account.deposit(500)\n",
    "print(savings_account.balance)"
   ]
  },
  {
   "cell_type": "code",
   "execution_count": 76,
   "metadata": {},
   "outputs": [
    {
     "name": "stdout",
     "output_type": "stream",
     "text": [
      "0\n",
      "5\n"
     ]
    },
    {
     "ename": "AttributeError",
     "evalue": "type object 'Account' has no attribute 'interest_rate'",
     "output_type": "error",
     "traceback": [
      "\u001b[0;31m---------------------------------------------------------------------------\u001b[0m",
      "\u001b[0;31mAttributeError\u001b[0m                            Traceback (most recent call last)",
      "\u001b[0;32m<ipython-input-76-d3a70604b45e>\u001b[0m in \u001b[0;36m<module>\u001b[0;34m\u001b[0m\n\u001b[1;32m      1\u001b[0m \u001b[0mprint\u001b[0m\u001b[0;34m(\u001b[0m\u001b[0msavings_account\u001b[0m\u001b[0;34m.\u001b[0m\u001b[0mnumber_of_transactions\u001b[0m\u001b[0;34m)\u001b[0m\u001b[0;34m\u001b[0m\u001b[0;34m\u001b[0m\u001b[0m\n\u001b[1;32m      2\u001b[0m \u001b[0mprint\u001b[0m\u001b[0;34m(\u001b[0m\u001b[0mSavingsAccount\u001b[0m\u001b[0;34m.\u001b[0m\u001b[0minterest_rate\u001b[0m\u001b[0;34m)\u001b[0m\u001b[0;34m\u001b[0m\u001b[0;34m\u001b[0m\u001b[0m\n\u001b[0;32m----> 3\u001b[0;31m \u001b[0mprint\u001b[0m\u001b[0;34m(\u001b[0m\u001b[0mAccount\u001b[0m\u001b[0;34m.\u001b[0m\u001b[0minterest_rate\u001b[0m\u001b[0;34m)\u001b[0m\u001b[0;34m\u001b[0m\u001b[0;34m\u001b[0m\u001b[0m\n\u001b[0m",
      "\u001b[0;31mAttributeError\u001b[0m: type object 'Account' has no attribute 'interest_rate'"
     ]
    }
   ],
   "source": [
    "print(savings_account.number_of_transactions)\n",
    "print(SavingsAccount.interest_rate)\n",
    "print(Account.interest_rate)"
   ]
  },
  {
   "cell_type": "code",
   "execution_count": 77,
   "metadata": {},
   "outputs": [
    {
     "name": "stdout",
     "output_type": "stream",
     "text": [
      "5\n"
     ]
    }
   ],
   "source": [
    "savings_account.change_number_of_transactions(5)\n",
    "print(savings_account.max_number_of_transactions)"
   ]
  },
  {
   "cell_type": "code",
   "execution_count": 81,
   "metadata": {},
   "outputs": [
    {
     "name": "stdout",
     "output_type": "stream",
     "text": [
      "500\n"
     ]
    }
   ],
   "source": [
    "savings_account.number_of_transactions = 4\n",
    "savings_account.balance = 1000\n",
    "\n",
    "savings_account.withdraw(500)\n",
    "print(savings_account.balance)"
   ]
  },
  {
   "cell_type": "code",
   "execution_count": 79,
   "metadata": {},
   "outputs": [
    {
     "name": "stdout",
     "output_type": "stream",
     "text": [
      "5\n"
     ]
    }
   ],
   "source": [
    "print(savings_account.number_of_transactions)"
   ]
  },
  {
   "cell_type": "code",
   "execution_count": 80,
   "metadata": {},
   "outputs": [
    {
     "data": {
      "text/plain": [
       "False"
      ]
     },
     "execution_count": 80,
     "metadata": {},
     "output_type": "execute_result"
    }
   ],
   "source": [
    "savings_account.withdraw(100)"
   ]
  },
  {
   "cell_type": "code",
   "execution_count": 82,
   "metadata": {},
   "outputs": [
    {
     "data": {
      "text/plain": [
       "False"
      ]
     },
     "execution_count": 82,
     "metadata": {},
     "output_type": "execute_result"
    }
   ],
   "source": [
    "savings_account.number_of_transactions = 4\n",
    "savings_account.withdraw(1000)"
   ]
  },
  {
   "cell_type": "code",
   "execution_count": 83,
   "metadata": {},
   "outputs": [
    {
     "data": {
      "text/plain": [
       "True"
      ]
     },
     "execution_count": 83,
     "metadata": {},
     "output_type": "execute_result"
    }
   ],
   "source": [
    "savings_account.withdraw(100)"
   ]
  }
 ],
 "metadata": {
  "kernelspec": {
   "display_name": "Python 3",
   "language": "python",
   "name": "python3"
  },
  "language_info": {
   "codemirror_mode": {
    "name": "ipython",
    "version": 3
   },
   "file_extension": ".py",
   "mimetype": "text/x-python",
   "name": "python",
   "nbconvert_exporter": "python",
   "pygments_lexer": "ipython3",
   "version": "3.7.3"
  }
 },
 "nbformat": 4,
 "nbformat_minor": 4
}
