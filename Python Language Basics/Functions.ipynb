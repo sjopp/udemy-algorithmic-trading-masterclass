{
 "cells": [
  {
   "cell_type": "markdown",
   "metadata": {},
   "source": [
    "### implement a function, we want to buy a stock, we will use this function to add shares to our current number of shares"
   ]
  },
  {
   "cell_type": "code",
   "execution_count": 5,
   "metadata": {},
   "outputs": [
    {
     "name": "stdout",
     "output_type": "stream",
     "text": [
      "6\n",
      "7\n",
      "8\n",
      "9\n",
      "10\n"
     ]
    }
   ],
   "source": [
    "number_of_shares = 5\n",
    "\n",
    "def buy_share():\n",
    "    global number_of_shares\n",
    "    number_of_shares += 1\n",
    "    print(number_of_shares) \n",
    "\n",
    "for _ in range(0, 5):\n",
    "    buy_share()"
   ]
  },
  {
   "cell_type": "markdown",
   "metadata": {},
   "source": [
    "### pass in the number of shares to buy and the price per share and return the total cost of the transaction"
   ]
  },
  {
   "cell_type": "code",
   "execution_count": 7,
   "metadata": {},
   "outputs": [
    {
     "name": "stdout",
     "output_type": "stream",
     "text": [
      "20\n"
     ]
    },
    {
     "data": {
      "text/plain": [
       "502.5"
      ]
     },
     "execution_count": 7,
     "metadata": {},
     "output_type": "execute_result"
    }
   ],
   "source": [
    "def buy_shares(num_shares, price_per_share):\n",
    "    global number_of_shares\n",
    "    number_of_shares += num_shares\n",
    "    print(number_of_shares)\n",
    "    return num_shares * price_per_share\n",
    "    \n",
    "buy_shares(5, 100.50)"
   ]
  },
  {
   "cell_type": "code",
   "execution_count": 10,
   "metadata": {},
   "outputs": [
    {
     "name": "stdout",
     "output_type": "stream",
     "text": [
      "20\n"
     ]
    },
    {
     "data": {
      "text/plain": [
       "1005.0"
      ]
     },
     "execution_count": 10,
     "metadata": {},
     "output_type": "execute_result"
    }
   ],
   "source": [
    "number_of_shares = 10\n",
    "\n",
    "def buy_shares(price_per_share, num_shares=1):\n",
    "    global number_of_shares\n",
    "    number_of_shares += num_shares\n",
    "    print(number_of_shares)\n",
    "    return num_shares * price_per_share\n",
    "\n",
    "buy_shares(100.50, 10)"
   ]
  }
 ],
 "metadata": {
  "kernelspec": {
   "display_name": "Python 3",
   "language": "python",
   "name": "python3"
  },
  "language_info": {
   "codemirror_mode": {
    "name": "ipython",
    "version": 3
   },
   "file_extension": ".py",
   "mimetype": "text/x-python",
   "name": "python",
   "nbconvert_exporter": "python",
   "pygments_lexer": "ipython3",
   "version": "3.7.3"
  }
 },
 "nbformat": 4,
 "nbformat_minor": 4
}
