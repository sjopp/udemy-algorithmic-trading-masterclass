{
 "cells": [
  {
   "cell_type": "markdown",
   "metadata": {},
   "source": [
    "# create a stock watchlist"
   ]
  },
  {
   "cell_type": "code",
   "execution_count": 17,
   "metadata": {},
   "outputs": [
    {
     "name": "stdout",
     "output_type": "stream",
     "text": [
      "['AAPL', 'MSFT', 'AMZN']\n"
     ]
    }
   ],
   "source": [
    "stock_list = ['AAPL', 'MSFT', 'AMZN']\n",
    "print(stock_list)"
   ]
  },
  {
   "cell_type": "code",
   "execution_count": 4,
   "metadata": {},
   "outputs": [
    {
     "name": "stdout",
     "output_type": "stream",
     "text": [
      "AMZN\n"
     ]
    }
   ],
   "source": [
    "amazon_stock_name = stock_list[2]\n",
    "print(amazon_stock_name)"
   ]
  },
  {
   "cell_type": "code",
   "execution_count": 5,
   "metadata": {},
   "outputs": [
    {
     "name": "stdout",
     "output_type": "stream",
     "text": [
      "['AAPL', 'GOOG', 'AMZN']\n"
     ]
    }
   ],
   "source": [
    "stock_list[1] = 'GOOG'\n",
    "print(stock_list)"
   ]
  },
  {
   "cell_type": "code",
   "execution_count": 7,
   "metadata": {},
   "outputs": [
    {
     "data": {
      "text/plain": [
       "3"
      ]
     },
     "execution_count": 7,
     "metadata": {},
     "output_type": "execute_result"
    }
   ],
   "source": [
    "len(stock_list)"
   ]
  },
  {
   "cell_type": "markdown",
   "metadata": {},
   "source": [
    "# add, insert, delete & remove"
   ]
  },
  {
   "cell_type": "code",
   "execution_count": 18,
   "metadata": {},
   "outputs": [
    {
     "name": "stdout",
     "output_type": "stream",
     "text": [
      "['AAPL', 'MSFT', 'AMZN', 'MSFT']\n"
     ]
    }
   ],
   "source": [
    "stock_list.append('MSFT')\n",
    "print(stock_list)"
   ]
  },
  {
   "cell_type": "code",
   "execution_count": 19,
   "metadata": {},
   "outputs": [
    {
     "name": "stdout",
     "output_type": "stream",
     "text": [
      "['AAPL', 'AMD', 'MSFT', 'AMZN', 'MSFT']\n"
     ]
    }
   ],
   "source": [
    "stock_list.insert(1, 'AMD')\n",
    "print(stock_list)"
   ]
  },
  {
   "cell_type": "code",
   "execution_count": 20,
   "metadata": {},
   "outputs": [
    {
     "name": "stdout",
     "output_type": "stream",
     "text": [
      "['AMD', 'MSFT', 'AMZN', 'MSFT']\n"
     ]
    }
   ],
   "source": [
    "del(stock_list[0])\n",
    "print(stock_list)"
   ]
  },
  {
   "cell_type": "code",
   "execution_count": 21,
   "metadata": {},
   "outputs": [
    {
     "name": "stdout",
     "output_type": "stream",
     "text": [
      "['AMD', 'MSFT', 'MSFT']\n"
     ]
    }
   ],
   "source": [
    "stock_list.remove('AMZN')\n",
    "print(stock_list)"
   ]
  },
  {
   "cell_type": "code",
   "execution_count": 22,
   "metadata": {},
   "outputs": [
    {
     "name": "stdout",
     "output_type": "stream",
     "text": [
      "['AMD', 'MSFT']\n"
     ]
    }
   ],
   "source": [
    "stock_list.pop(2)\n",
    "print(stock_list)"
   ]
  },
  {
   "cell_type": "code",
   "execution_count": 23,
   "metadata": {},
   "outputs": [
    {
     "name": "stdout",
     "output_type": "stream",
     "text": [
      "1\n"
     ]
    }
   ],
   "source": [
    "print(stock_list.count('MSFT'))"
   ]
  },
  {
   "cell_type": "markdown",
   "metadata": {},
   "source": [
    "# map out the purchase of a stock so I need the name, price and volume"
   ]
  },
  {
   "cell_type": "code",
   "execution_count": 24,
   "metadata": {},
   "outputs": [
    {
     "name": "stdout",
     "output_type": "stream",
     "text": [
      "('AAPL', 171.06, 100)\n"
     ]
    }
   ],
   "source": [
    "stock_purchase = ('AAPL', 171.06, 100)\n",
    "print(stock_purchase)"
   ]
  },
  {
   "cell_type": "code",
   "execution_count": 26,
   "metadata": {},
   "outputs": [
    {
     "name": "stdout",
     "output_type": "stream",
     "text": [
      "AAPL\n"
     ]
    }
   ],
   "source": [
    "stock_name = stock_purchase[0]\n",
    "print(stock_name)"
   ]
  },
  {
   "cell_type": "code",
   "execution_count": 27,
   "metadata": {},
   "outputs": [
    {
     "ename": "TypeError",
     "evalue": "'tuple' object does not support item assignment",
     "output_type": "error",
     "traceback": [
      "\u001b[0;31m---------------------------------------------------------------------------\u001b[0m",
      "\u001b[0;31mTypeError\u001b[0m                                 Traceback (most recent call last)",
      "\u001b[0;32m<ipython-input-27-afa86e0b703a>\u001b[0m in \u001b[0;36m<module>\u001b[0;34m\u001b[0m\n\u001b[0;32m----> 1\u001b[0;31m \u001b[0mstock_purchase\u001b[0m\u001b[0;34m[\u001b[0m\u001b[0;36m2\u001b[0m\u001b[0;34m]\u001b[0m \u001b[0;34m=\u001b[0m \u001b[0;36m150\u001b[0m\u001b[0;34m\u001b[0m\u001b[0;34m\u001b[0m\u001b[0m\n\u001b[0m",
      "\u001b[0;31mTypeError\u001b[0m: 'tuple' object does not support item assignment"
     ]
    }
   ],
   "source": [
    "stock_purchase[2] = 150"
   ]
  },
  {
   "cell_type": "code",
   "execution_count": 28,
   "metadata": {},
   "outputs": [
    {
     "name": "stdout",
     "output_type": "stream",
     "text": [
      "3\n"
     ]
    }
   ],
   "source": [
    "print(len(stock_purchase))"
   ]
  },
  {
   "cell_type": "code",
   "execution_count": 29,
   "metadata": {},
   "outputs": [
    {
     "name": "stdout",
     "output_type": "stream",
     "text": [
      "2\n"
     ]
    }
   ],
   "source": [
    "print(stock_purchase.index(100))"
   ]
  },
  {
   "cell_type": "code",
   "execution_count": 30,
   "metadata": {},
   "outputs": [
    {
     "name": "stdout",
     "output_type": "stream",
     "text": [
      "1\n"
     ]
    }
   ],
   "source": [
    "print(stock_purchase.count(171.06))"
   ]
  },
  {
   "cell_type": "markdown",
   "metadata": {},
   "source": [
    "# list of stocks and their prices"
   ]
  },
  {
   "cell_type": "code",
   "execution_count": 41,
   "metadata": {},
   "outputs": [
    {
     "name": "stdout",
     "output_type": "stream",
     "text": [
      "112.23\n"
     ]
    }
   ],
   "source": [
    "stocks_dict = {'AAPL': 172.59, 'MSFT': 112.23, 'AMZN': 1650.98}\n",
    "microsoft_price = stocks_dict['MSFT']\n",
    "print(microsoft_price)"
   ]
  },
  {
   "cell_type": "code",
   "execution_count": 42,
   "metadata": {},
   "outputs": [
    {
     "name": "stdout",
     "output_type": "stream",
     "text": [
      "{'AAPL': 172.59, 'MSFT': 112.23, 'AMZN': 1670.98, 'GOOG': 1120.82}\n"
     ]
    }
   ],
   "source": [
    "stocks_dict['AMZN'] = 1670.98\n",
    "stocks_dict['GOOG'] = 1120.82\n",
    "print(stocks_dict)"
   ]
  },
  {
   "cell_type": "code",
   "execution_count": 43,
   "metadata": {},
   "outputs": [
    {
     "name": "stdout",
     "output_type": "stream",
     "text": [
      "None\n"
     ]
    }
   ],
   "source": [
    "print(stocks_dict.get('dfhshh'))"
   ]
  },
  {
   "cell_type": "code",
   "execution_count": 44,
   "metadata": {},
   "outputs": [
    {
     "name": "stdout",
     "output_type": "stream",
     "text": [
      "4\n"
     ]
    }
   ],
   "source": [
    "print(len(stocks_dict))"
   ]
  },
  {
   "cell_type": "code",
   "execution_count": 45,
   "metadata": {},
   "outputs": [
    {
     "name": "stdout",
     "output_type": "stream",
     "text": [
      "{'AAPL': 172.59, 'MSFT': 112.23, 'AMZN': 1670.98}\n"
     ]
    }
   ],
   "source": [
    "del(stocks_dict['GOOG'])\n",
    "print(stocks_dict)"
   ]
  },
  {
   "cell_type": "markdown",
   "metadata": {},
   "source": [
    "pop, items, values, keys"
   ]
  },
  {
   "cell_type": "code",
   "execution_count": 46,
   "metadata": {},
   "outputs": [
    {
     "name": "stdout",
     "output_type": "stream",
     "text": [
      "172.59\n",
      "dict_items([('MSFT', 112.23), ('AMZN', 1670.98)])\n",
      "dict_values([112.23, 1670.98])\n",
      "dict_keys(['MSFT', 'AMZN'])\n"
     ]
    }
   ],
   "source": [
    "print(stocks_dict.pop('AAPL'))\n",
    "print(stocks_dict.items())\n",
    "print(stocks_dict.values())\n",
    "print(stocks_dict.keys())"
   ]
  },
  {
   "cell_type": "code",
   "execution_count": 48,
   "metadata": {},
   "outputs": [
    {
     "name": "stdout",
     "output_type": "stream",
     "text": [
      "[('MSFT', 112.23), ('AMZN', 1670.98)]\n",
      "[112.23, 1670.98]\n",
      "['MSFT', 'AMZN']\n"
     ]
    }
   ],
   "source": [
    "print(list(stocks_dict.items()))\n",
    "print(list(stocks_dict.values()))\n",
    "print(list(stocks_dict.keys()))"
   ]
  },
  {
   "cell_type": "markdown",
   "metadata": {},
   "source": [
    "# Matrix\n",
    "a multidimensional list.\n",
    "4 weeks worth of price data points"
   ]
  },
  {
   "cell_type": "code",
   "execution_count": 49,
   "metadata": {},
   "outputs": [
    {
     "name": "stdout",
     "output_type": "stream",
     "text": [
      "[4.5, 4.2, 4.6, 5.1, 4.8]\n"
     ]
    }
   ],
   "source": [
    "monthly_price_data = [\n",
    "    [4.5, 4.2, 4.6, 5.1, 4.8],\n",
    "    [4.3, 4.9, 5.1, 5.1, 4.8],\n",
    "    [4.2, 4.7, 5.2, 5.4, 4.9],\n",
    "    [4.6, 4.8, 5.1, 5.7, 5.9]\n",
    "]\n",
    "\n",
    "first_week_data = monthly_price_data[0]\n",
    "print(first_week_data)"
   ]
  },
  {
   "cell_type": "code",
   "execution_count": 50,
   "metadata": {},
   "outputs": [
    {
     "name": "stdout",
     "output_type": "stream",
     "text": [
      "[4.5, 4.2, 4.6, 5.1, 4.8, 5.5]\n"
     ]
    }
   ],
   "source": [
    "first_week_data.append(5.5)\n",
    "print(first_week_data)"
   ]
  },
  {
   "cell_type": "code",
   "execution_count": 51,
   "metadata": {},
   "outputs": [
    {
     "name": "stdout",
     "output_type": "stream",
     "text": [
      "[[4.5, 4.2, 4.6, 5.1, 4.8, 5.5], [4.3, 4.9, 5.1, 5.1, 4.8], [4.2, 4.7, 5.2, 5.4, 4.9], [4.6, 4.8, 5.1, 5.7, 5.9], [1, 2, 3, 4, 5]]\n"
     ]
    }
   ],
   "source": [
    "monthly_price_data.append([1,2,3,4,5])\n",
    "print(monthly_price_data)"
   ]
  },
  {
   "cell_type": "markdown",
   "metadata": {},
   "source": [
    "if we make any matrix modifications to the items in the matrix it makes them to the original matrix too"
   ]
  },
  {
   "cell_type": "code",
   "execution_count": 52,
   "metadata": {},
   "outputs": [
    {
     "name": "stdout",
     "output_type": "stream",
     "text": [
      "4.7\n"
     ]
    }
   ],
   "source": [
    "print(monthly_price_data[2][1])"
   ]
  },
  {
   "cell_type": "code",
   "execution_count": 53,
   "metadata": {},
   "outputs": [
    {
     "name": "stdout",
     "output_type": "stream",
     "text": [
      "[[4.5, 4.2, 4.6, 5.1, 4.8, 5.5], [4.3, 4.9, 5.1, 5.3, 4.8], [4.2, 4.7, 5.2, 5.4, 4.9], [4.6, 4.8, 5.1, 5.7, 5.9], [1, 2, 3, 4, 5]]\n"
     ]
    }
   ],
   "source": [
    "monthly_price_data[1][3] = 5.3\n",
    "print(monthly_price_data)"
   ]
  },
  {
   "cell_type": "code",
   "execution_count": 54,
   "metadata": {},
   "outputs": [
    {
     "name": "stdout",
     "output_type": "stream",
     "text": [
      "[[4.5, 4.2, 4.6, 5.1, 4.8, 5.5], [4.3, 4.9, 5.1, 5.3, 4.8], [4.2, 4.7, 5.2, 5.4, 4.9], [4.7, 4.9, 5.2, 5.8, 6.0], [1, 2, 3, 4, 5]]\n"
     ]
    }
   ],
   "source": [
    "monthly_price_data[3] = [4.7, 4.9, 5.2, 5.8, 6.0]\n",
    "print(monthly_price_data)"
   ]
  },
  {
   "cell_type": "code",
   "execution_count": null,
   "metadata": {},
   "outputs": [],
   "source": []
  }
 ],
 "metadata": {
  "kernelspec": {
   "display_name": "Python 3",
   "language": "python",
   "name": "python3"
  },
  "language_info": {
   "codemirror_mode": {
    "name": "ipython",
    "version": 3
   },
   "file_extension": ".py",
   "mimetype": "text/x-python",
   "name": "python",
   "nbconvert_exporter": "python",
   "pygments_lexer": "ipython3",
   "version": "3.7.3"
  }
 },
 "nbformat": 4,
 "nbformat_minor": 4
}
