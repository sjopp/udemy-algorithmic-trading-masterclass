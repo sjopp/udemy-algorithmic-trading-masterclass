{
 "cells": [
  {
   "cell_type": "markdown",
   "metadata": {},
   "source": [
    "# If statements\n",
    "### we want to either buy, sell or hold a stock based on its price"
   ]
  },
  {
   "cell_type": "code",
   "execution_count": 13,
   "metadata": {},
   "outputs": [
    {
     "name": "stdout",
     "output_type": "stream",
     "text": [
      "hold\n"
     ]
    }
   ],
   "source": [
    "stock_price = 150\n",
    "action = ''\n",
    "\n",
    "if stock_price <= 140:\n",
    "    action = 'buy'\n",
    "elif stock_price >= 160:\n",
    "    action = 'sell'\n",
    "else:\n",
    "    action = 'hold'\n",
    "\n",
    "print(action)"
   ]
  },
  {
   "cell_type": "markdown",
   "metadata": {},
   "source": [
    "### concurrent if statements, and/or operators, nested if statements"
   ]
  },
  {
   "cell_type": "code",
   "execution_count": 14,
   "metadata": {},
   "outputs": [
    {
     "name": "stdout",
     "output_type": "stream",
     "text": [
      "sell everything\n"
     ]
    }
   ],
   "source": [
    "stock_price = 110\n",
    "\n",
    "if stock_price <= 140:\n",
    "    action = 'buy'\n",
    "if stock_price <= 160:\n",
    "    action = 'sell everything'\n",
    "\n",
    "print(action)"
   ]
  },
  {
   "cell_type": "code",
   "execution_count": 18,
   "metadata": {},
   "outputs": [
    {
     "name": "stdout",
     "output_type": "stream",
     "text": [
      "\n"
     ]
    }
   ],
   "source": [
    "is_market_open = False\n",
    "stock_price = 150\n",
    "action = ''\n",
    "\n",
    "if is_market_open and stock_price >= 150:\n",
    "    action = 'sell'\n",
    "    \n",
    "print(action)    "
   ]
  },
  {
   "cell_type": "code",
   "execution_count": 22,
   "metadata": {},
   "outputs": [
    {
     "name": "stdout",
     "output_type": "stream",
     "text": [
      "hold\n"
     ]
    }
   ],
   "source": [
    "is_market_open = True\n",
    "stock_price = 140\n",
    "action = ''\n",
    "\n",
    "if is_market_open:\n",
    "    action = 'hold'\n",
    "    if stock_price >= 150:\n",
    "        action = 'sell'\n",
    "    \n",
    "print(action)    "
   ]
  },
  {
   "cell_type": "markdown",
   "metadata": {},
   "source": [
    "# While loops\n",
    "### sell stock in batches of 5"
   ]
  },
  {
   "cell_type": "code",
   "execution_count": 24,
   "metadata": {},
   "outputs": [
    {
     "name": "stdout",
     "output_type": "stream",
     "text": [
      "We still have 15 shares left\n",
      "We still have 10 shares left\n",
      "We still have 5 shares left\n",
      "We still have 0 shares left\n"
     ]
    }
   ],
   "source": [
    "batch_size = 5\n",
    "number_of_shares = 20\n",
    "\n",
    "while number_of_shares > 0:\n",
    "    # sell shares here\n",
    "    number_of_shares -= batch_size    \n",
    "    print(f'We still have {number_of_shares} shares left')"
   ]
  },
  {
   "cell_type": "markdown",
   "metadata": {},
   "source": [
    "# For loops\n",
    "### for in loop with a list, print of stock names and values"
   ]
  },
  {
   "cell_type": "code",
   "execution_count": 27,
   "metadata": {},
   "outputs": [
    {
     "name": "stdout",
     "output_type": "stream",
     "text": [
      "Stock name: AAPL, current price: 171.62\n",
      "Stock name: MSFT, current price: 113.45\n",
      "Stock name: AMZN, current price: 1670.98\n"
     ]
    }
   ],
   "source": [
    "stocks_dict = {'AAPL': 171.62, 'MSFT': 113.45, 'AMZN': 1670.98}\n",
    "\n",
    "for item in list(stocks_dict.items()):\n",
    "    print(f'Stock name: {item[0]}, current price: {item[1]}')"
   ]
  },
  {
   "cell_type": "markdown",
   "metadata": {},
   "source": [
    "### for in loop with a range of values, print out stock names and values"
   ]
  },
  {
   "cell_type": "code",
   "execution_count": 28,
   "metadata": {},
   "outputs": [
    {
     "name": "stdout",
     "output_type": "stream",
     "text": [
      "Stock name: AAPL, current price: 171.62\n",
      "Stock name: MSFT, current price: 113.45\n",
      "Stock name: AMZN, current price: 1670.98\n"
     ]
    }
   ],
   "source": [
    "stocks_dict_list = list(stocks_dict.items())\n",
    "\n",
    "for i in range(0, len(stocks_dict_list)):\n",
    "    stock_tuple = stocks_dict_list[i] \n",
    "    print(f'Stock name: {stock_tuple[0]}, current price: {stock_tuple[1]}')"
   ]
  },
  {
   "cell_type": "code",
   "execution_count": 29,
   "metadata": {},
   "outputs": [
    {
     "name": "stdout",
     "output_type": "stream",
     "text": [
      "Python is great\n",
      "Python is great\n",
      "Python is great\n",
      "Python is great\n",
      "Python is great\n"
     ]
    }
   ],
   "source": [
    "for _ in range(0, 5):\n",
    "    print('Python is great')"
   ]
  },
  {
   "cell_type": "markdown",
   "metadata": {},
   "source": [
    "# Control flow statements\n",
    "### Continue, sell off negative stocks and keep positive ones"
   ]
  },
  {
   "cell_type": "code",
   "execution_count": 31,
   "metadata": {},
   "outputs": [
    {
     "name": "stdout",
     "output_type": "stream",
     "text": [
      "Sold shares of AAPL\n",
      "Sold shares of AMZN\n"
     ]
    }
   ],
   "source": [
    "stocks_dict = {'AAPL': False, 'MSFT': True, 'AMZN': False}\n",
    "\n",
    "for item in list(stocks_dict.items()):\n",
    "    is_positive = item[1]\n",
    "    if is_positive:\n",
    "        continue\n",
    "    print(f'Sold shares of {item[0]}')"
   ]
  },
  {
   "cell_type": "markdown",
   "metadata": {},
   "source": [
    "### break, sell off shares only in batches of 5 otherwise keep them}"
   ]
  },
  {
   "cell_type": "code",
   "execution_count": 32,
   "metadata": {},
   "outputs": [
    {
     "name": "stdout",
     "output_type": "stream",
     "text": [
      "We still have 17 shares left\n",
      "We still have 12 shares left\n",
      "We still have 7 shares left\n",
      "We still have 2 shares left\n"
     ]
    }
   ],
   "source": [
    "batch_size = 5\n",
    "number_of_shares = 22\n",
    "\n",
    "while number_of_shares > 0:\n",
    "    if number_of_shares < 5:\n",
    "        break\n",
    "    # sell shares here\n",
    "    number_of_shares -= batch_size    \n",
    "    print(f'We still have {number_of_shares} shares left')"
   ]
  }
 ],
 "metadata": {
  "kernelspec": {
   "display_name": "Python 3",
   "language": "python",
   "name": "python3"
  },
  "language_info": {
   "codemirror_mode": {
    "name": "ipython",
    "version": 3
   },
   "file_extension": ".py",
   "mimetype": "text/x-python",
   "name": "python",
   "nbconvert_exporter": "python",
   "pygments_lexer": "ipython3",
   "version": "3.7.3"
  }
 },
 "nbformat": 4,
 "nbformat_minor": 4
}
