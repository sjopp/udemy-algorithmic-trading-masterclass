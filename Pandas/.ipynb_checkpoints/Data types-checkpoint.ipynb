{
 "cells": [
  {
   "cell_type": "code",
   "execution_count": 1,
   "metadata": {},
   "outputs": [],
   "source": [
    "import pandas as pd"
   ]
  },
  {
   "cell_type": "code",
   "execution_count": 4,
   "metadata": {},
   "outputs": [],
   "source": [
    "strings = pd.Series(['a', 'b', 'c'])\n",
    "\n",
    "categories = pd.Series(['a', 'b', 'c'], dtype=\"category\")\n",
    "\n",
    "ints = pd.Series([1, 2, 3])\n",
    "\n",
    "floats = pd.Series([1.2, 3.4, 5.6])\n",
    "\n",
    "bools = pd.Series([True, False, True])\n",
    "\n",
    "dates = pd.Series([pd.to_datetime('31/12/2018')])\n",
    "\n",
    "df = pd.DataFrame({'s': strings, 'f': floats})"
   ]
  },
  {
   "cell_type": "code",
   "execution_count": 5,
   "metadata": {},
   "outputs": [
    {
     "name": "stdout",
     "output_type": "stream",
     "text": [
      "object\n",
      "category\n",
      "int64\n",
      "float64\n",
      "bool\n",
      "datetime64[ns]\n"
     ]
    }
   ],
   "source": [
    "print(strings.dtype)\n",
    "print(categories.dtype)\n",
    "print(ints.dtype)\n",
    "print(floats.dtype)\n",
    "print(bools.dtype)\n",
    "print(dates.dtype)"
   ]
  },
  {
   "cell_type": "code",
   "execution_count": 6,
   "metadata": {},
   "outputs": [
    {
     "data": {
      "text/plain": [
       "Timestamp('2018-12-31 00:00:00')"
      ]
     },
     "execution_count": 6,
     "metadata": {},
     "output_type": "execute_result"
    }
   ],
   "source": [
    "dates[0]"
   ]
  },
  {
   "cell_type": "code",
   "execution_count": 7,
   "metadata": {},
   "outputs": [
    {
     "data": {
      "text/plain": [
       "0   2018-12-31\n",
       "dtype: datetime64[ns]"
      ]
     },
     "execution_count": 7,
     "metadata": {},
     "output_type": "execute_result"
    }
   ],
   "source": [
    "dates"
   ]
  },
  {
   "cell_type": "code",
   "execution_count": 8,
   "metadata": {},
   "outputs": [
    {
     "name": "stdout",
     "output_type": "stream",
     "text": [
      "s     object\n",
      "f    float64\n",
      "dtype: object\n"
     ]
    }
   ],
   "source": [
    "print(df.dtypes)"
   ]
  }
 ],
 "metadata": {
  "kernelspec": {
   "display_name": "Python 3",
   "language": "python",
   "name": "python3"
  },
  "language_info": {
   "codemirror_mode": {
    "name": "ipython",
    "version": 3
   },
   "file_extension": ".py",
   "mimetype": "text/x-python",
   "name": "python",
   "nbconvert_exporter": "python",
   "pygments_lexer": "ipython3",
   "version": "3.7.3"
  }
 },
 "nbformat": 4,
 "nbformat_minor": 4
}
